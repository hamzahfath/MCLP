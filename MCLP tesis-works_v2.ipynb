{
 "cells": [
  {
   "cell_type": "code",
   "execution_count": 38,
   "id": "c1b04c39",
   "metadata": {},
   "outputs": [],
   "source": [
    "import pulp\n",
    "import pandas as pd\n",
    "import numpy as np "
   ]
  },
  {
   "cell_type": "code",
   "execution_count": 53,
   "id": "1f042f10",
   "metadata": {},
   "outputs": [],
   "source": [
    "# Load the distance matrix from an Excel file\n",
    "excel_file = \"distance_matrix.xlsx\"  \n",
    "dfs = pd.read_excel(excel_file, index_col=0, engine='openpyxl')\n",
    "\n",
    "df = dfs.copy()\n",
    "\n",
    "demand_i = np.random.rand(df.shape[1])*1000 #demand aslinya \n",
    "demands = {city : demand for city, demand in zip(df.columns,demand_i)}"
   ]
  },
  {
   "cell_type": "code",
   "execution_count": null,
   "id": "1e753f70",
   "metadata": {},
   "outputs": [],
   "source": []
  },
  {
   "cell_type": "code",
   "execution_count": 39,
   "id": "8c78eb93",
   "metadata": {},
   "outputs": [],
   "source": [
    "# Define your parameters\n",
    "facilities = df.columns.tolist()  # Facility locations\n",
    "demand_points = df.index.tolist()  # Demand points\n",
    "k = 3  # Number of facilities to open\n",
    "maximum_coverage = 10000"
   ]
  },
  {
   "cell_type": "code",
   "execution_count": 40,
   "id": "10c4126d",
   "metadata": {},
   "outputs": [],
   "source": [
    "# Create a PuLP linear programming problem\n",
    "problem = pulp.LpProblem(\"MCLP\", pulp.LpMaximize)"
   ]
  },
  {
   "cell_type": "code",
   "execution_count": 41,
   "id": "115fadeb",
   "metadata": {},
   "outputs": [],
   "source": [
    "# Define binary variables for facility opening decision\n",
    "facility_open = {j: pulp.LpVariable(\"x \" + str(j), cat=pulp.LpBinary) for j in facilities}   #x\n",
    "demand_point = {i: pulp.LpVariable(\"y \" + str(i), cat=pulp.LpBinary) for i in demand_points}  #y\n",
    "#demand_number = {i: pulp.LpVariable(i, cat=pulp.LpBinary) for i in demand_i} #a\n",
    "# demand_fulfilled = pulp.LpVariable.dicts(\"demand_fulfilled\", demand_points, cat='Binary')\n",
    "# demand_fulfilled\n",
    "#demand_point"
   ]
  },
  {
   "cell_type": "code",
   "execution_count": 42,
   "id": "313b64ee",
   "metadata": {},
   "outputs": [
    {
     "data": {
      "text/plain": [
       "MCLP:\n",
       "MAXIMIZE\n",
       "346.45907104186614*y_KAPANEWON_GALUR + 987.6490780465732*y_KAPANEWON_LENDAH + 15.811146437710978*y_KAPANEWON_PANJATAN + 813.3729177449558*y_KAPANEWON_TEMON + 801.8814324705702*y_KAPANEWON_WATES + 0.0\n",
       "VARIABLES\n",
       "0 <= y_KAPANEWON_GALUR <= 1 Integer\n",
       "0 <= y_KAPANEWON_LENDAH <= 1 Integer\n",
       "0 <= y_KAPANEWON_PANJATAN <= 1 Integer\n",
       "0 <= y_KAPANEWON_TEMON <= 1 Integer\n",
       "0 <= y_KAPANEWON_WATES <= 1 Integer"
      ]
     },
     "execution_count": 42,
     "metadata": {},
     "output_type": "execute_result"
    }
   ],
   "source": [
    "# Define the objective function (maximize coverage)\n",
    "problem += pulp.lpSum([demands[d] * demand_point[d] for d in demand_point])\n",
    "problem\n"
   ]
  },
  {
   "cell_type": "code",
   "execution_count": 43,
   "id": "c57eccf0",
   "metadata": {},
   "outputs": [],
   "source": [
    "# Set up constraints K (maximal SPKLU YANG DIBANGUN)\n",
    "problem += pulp.lpSum([facility_open[f] for f in facilities]) == k"
   ]
  },
  {
   "cell_type": "code",
   "execution_count": 44,
   "id": "c2eb89c0",
   "metadata": {},
   "outputs": [
    {
     "data": {
      "text/plain": [
       "MCLP:\n",
       "MAXIMIZE\n",
       "346.45907104186614*y_KAPANEWON_GALUR + 987.6490780465732*y_KAPANEWON_LENDAH + 15.811146437710978*y_KAPANEWON_PANJATAN + 813.3729177449558*y_KAPANEWON_TEMON + 801.8814324705702*y_KAPANEWON_WATES + 0.0\n",
       "SUBJECT TO\n",
       "_C1: x_KAPANEWON_GALUR + x_KAPANEWON_LENDAH + x_KAPANEWON_PANJATAN\n",
       " + x_KAPANEWON_TEMON + x_KAPANEWON_WATES = 3\n",
       "\n",
       "VARIABLES\n",
       "0 <= x_KAPANEWON_GALUR <= 1 Integer\n",
       "0 <= x_KAPANEWON_LENDAH <= 1 Integer\n",
       "0 <= x_KAPANEWON_PANJATAN <= 1 Integer\n",
       "0 <= x_KAPANEWON_TEMON <= 1 Integer\n",
       "0 <= x_KAPANEWON_WATES <= 1 Integer\n",
       "0 <= y_KAPANEWON_GALUR <= 1 Integer\n",
       "0 <= y_KAPANEWON_LENDAH <= 1 Integer\n",
       "0 <= y_KAPANEWON_PANJATAN <= 1 Integer\n",
       "0 <= y_KAPANEWON_TEMON <= 1 Integer\n",
       "0 <= y_KAPANEWON_WATES <= 1 Integer"
      ]
     },
     "execution_count": 44,
     "metadata": {},
     "output_type": "execute_result"
    }
   ],
   "source": [
    "problem"
   ]
  },
  {
   "cell_type": "code",
   "execution_count": 45,
   "id": "d54ec766",
   "metadata": {},
   "outputs": [
    {
     "data": {
      "text/plain": [
       "{'KAPANEWON TEMON': ['KAPANEWON TEMON', 'KAPANEWON WATES'],\n",
       " 'KAPANEWON WATES': ['KAPANEWON TEMON',\n",
       "  'KAPANEWON WATES',\n",
       "  'KAPANEWON PANJATAN'],\n",
       " 'KAPANEWON PANJATAN': ['KAPANEWON WATES',\n",
       "  'KAPANEWON PANJATAN',\n",
       "  'KAPANEWON GALUR',\n",
       "  'KAPANEWON LENDAH'],\n",
       " 'KAPANEWON GALUR': ['KAPANEWON PANJATAN',\n",
       "  'KAPANEWON GALUR',\n",
       "  'KAPANEWON LENDAH'],\n",
       " 'KAPANEWON LENDAH': ['KAPANEWON PANJATAN',\n",
       "  'KAPANEWON GALUR',\n",
       "  'KAPANEWON LENDAH']}"
      ]
     },
     "execution_count": 45,
     "metadata": {},
     "output_type": "execute_result"
    }
   ],
   "source": [
    "N = [[j for j in facilities if df[i][j] <= maximum_coverage] for i in demand_points]\n",
    "N = {i:[j for j in facilities if df[i][j] <= 10000] for i in demand_points}\n",
    "N\n"
   ]
  },
  {
   "cell_type": "code",
   "execution_count": 46,
   "id": "94f3df77",
   "metadata": {},
   "outputs": [],
   "source": [
    "# Constraints for apalah 9tu \n",
    "for i in demand_points:\n",
    "    problem += pulp.lpSum([facility_open[j] for j in N[i]]) >= demand_point[i]"
   ]
  },
  {
   "cell_type": "code",
   "execution_count": 47,
   "id": "1a452757",
   "metadata": {},
   "outputs": [],
   "source": [
    "for i in demand_points: \n",
    "    [facility_open[j] for j in N[i]]"
   ]
  },
  {
   "cell_type": "code",
   "execution_count": 52,
   "id": "60f37e4d",
   "metadata": {},
   "outputs": [
    {
     "data": {
      "text/html": [
       "<div>\n",
       "<style scoped>\n",
       "    .dataframe tbody tr th:only-of-type {\n",
       "        vertical-align: middle;\n",
       "    }\n",
       "\n",
       "    .dataframe tbody tr th {\n",
       "        vertical-align: top;\n",
       "    }\n",
       "\n",
       "    .dataframe thead th {\n",
       "        text-align: right;\n",
       "    }\n",
       "</style>\n",
       "<table border=\"1\" class=\"dataframe\">\n",
       "  <thead>\n",
       "    <tr style=\"text-align: right;\">\n",
       "      <th></th>\n",
       "      <th>KAPANEWON TEMON</th>\n",
       "      <th>KAPANEWON WATES</th>\n",
       "      <th>KAPANEWON PANJATAN</th>\n",
       "      <th>KAPANEWON GALUR</th>\n",
       "      <th>KAPANEWON LENDAH</th>\n",
       "    </tr>\n",
       "  </thead>\n",
       "  <tbody>\n",
       "    <tr>\n",
       "      <th>KAPANEWON TEMON</th>\n",
       "      <td>0</td>\n",
       "      <td>7340</td>\n",
       "      <td>10629</td>\n",
       "      <td>19697</td>\n",
       "      <td>19916</td>\n",
       "    </tr>\n",
       "    <tr>\n",
       "      <th>KAPANEWON WATES</th>\n",
       "      <td>7340</td>\n",
       "      <td>0</td>\n",
       "      <td>3529</td>\n",
       "      <td>12597</td>\n",
       "      <td>12816</td>\n",
       "    </tr>\n",
       "    <tr>\n",
       "      <th>KAPANEWON PANJATAN</th>\n",
       "      <td>10629</td>\n",
       "      <td>3633</td>\n",
       "      <td>0</td>\n",
       "      <td>9068</td>\n",
       "      <td>9287</td>\n",
       "    </tr>\n",
       "    <tr>\n",
       "      <th>KAPANEWON GALUR</th>\n",
       "      <td>19697</td>\n",
       "      <td>12701</td>\n",
       "      <td>9068</td>\n",
       "      <td>0</td>\n",
       "      <td>1792</td>\n",
       "    </tr>\n",
       "    <tr>\n",
       "      <th>KAPANEWON LENDAH</th>\n",
       "      <td>20550</td>\n",
       "      <td>13555</td>\n",
       "      <td>9921</td>\n",
       "      <td>1792</td>\n",
       "      <td>0</td>\n",
       "    </tr>\n",
       "  </tbody>\n",
       "</table>\n",
       "</div>"
      ],
      "text/plain": [
       "                    KAPANEWON TEMON  KAPANEWON WATES  KAPANEWON PANJATAN  \\\n",
       "KAPANEWON TEMON                   0             7340               10629   \n",
       "KAPANEWON WATES                7340                0                3529   \n",
       "KAPANEWON PANJATAN            10629             3633                   0   \n",
       "KAPANEWON GALUR               19697            12701                9068   \n",
       "KAPANEWON LENDAH              20550            13555                9921   \n",
       "\n",
       "                    KAPANEWON GALUR  KAPANEWON LENDAH  \n",
       "KAPANEWON TEMON               19697             19916  \n",
       "KAPANEWON WATES               12597             12816  \n",
       "KAPANEWON PANJATAN             9068              9287  \n",
       "KAPANEWON GALUR                   0              1792  \n",
       "KAPANEWON LENDAH               1792                 0  "
      ]
     },
     "execution_count": 52,
     "metadata": {},
     "output_type": "execute_result"
    }
   ],
   "source": [
    "df"
   ]
  },
  {
   "cell_type": "code",
   "execution_count": 48,
   "id": "44e19dca",
   "metadata": {},
   "outputs": [
    {
     "data": {
      "text/plain": [
       "MCLP:\n",
       "MAXIMIZE\n",
       "346.45907104186614*y_KAPANEWON_GALUR + 987.6490780465732*y_KAPANEWON_LENDAH + 15.811146437710978*y_KAPANEWON_PANJATAN + 813.3729177449558*y_KAPANEWON_TEMON + 801.8814324705702*y_KAPANEWON_WATES + 0.0\n",
       "SUBJECT TO\n",
       "_C1: x_KAPANEWON_GALUR + x_KAPANEWON_LENDAH + x_KAPANEWON_PANJATAN\n",
       " + x_KAPANEWON_TEMON + x_KAPANEWON_WATES = 3\n",
       "\n",
       "_C2: x_KAPANEWON_TEMON + x_KAPANEWON_WATES - y_KAPANEWON_TEMON >= 0\n",
       "\n",
       "_C3: x_KAPANEWON_PANJATAN + x_KAPANEWON_TEMON + x_KAPANEWON_WATES\n",
       " - y_KAPANEWON_WATES >= 0\n",
       "\n",
       "_C4: x_KAPANEWON_GALUR + x_KAPANEWON_LENDAH + x_KAPANEWON_PANJATAN\n",
       " + x_KAPANEWON_WATES - y_KAPANEWON_PANJATAN >= 0\n",
       "\n",
       "_C5: x_KAPANEWON_GALUR + x_KAPANEWON_LENDAH + x_KAPANEWON_PANJATAN\n",
       " - y_KAPANEWON_GALUR >= 0\n",
       "\n",
       "_C6: x_KAPANEWON_GALUR + x_KAPANEWON_LENDAH + x_KAPANEWON_PANJATAN\n",
       " - y_KAPANEWON_LENDAH >= 0\n",
       "\n",
       "VARIABLES\n",
       "0 <= x_KAPANEWON_GALUR <= 1 Integer\n",
       "0 <= x_KAPANEWON_LENDAH <= 1 Integer\n",
       "0 <= x_KAPANEWON_PANJATAN <= 1 Integer\n",
       "0 <= x_KAPANEWON_TEMON <= 1 Integer\n",
       "0 <= x_KAPANEWON_WATES <= 1 Integer\n",
       "0 <= y_KAPANEWON_GALUR <= 1 Integer\n",
       "0 <= y_KAPANEWON_LENDAH <= 1 Integer\n",
       "0 <= y_KAPANEWON_PANJATAN <= 1 Integer\n",
       "0 <= y_KAPANEWON_TEMON <= 1 Integer\n",
       "0 <= y_KAPANEWON_WATES <= 1 Integer"
      ]
     },
     "execution_count": 48,
     "metadata": {},
     "output_type": "execute_result"
    }
   ],
   "source": [
    "problem"
   ]
  },
  {
   "cell_type": "code",
   "execution_count": 49,
   "id": "27a01f67",
   "metadata": {},
   "outputs": [
    {
     "data": {
      "text/plain": [
       "1"
      ]
     },
     "execution_count": 49,
     "metadata": {},
     "output_type": "execute_result"
    }
   ],
   "source": [
    "problem.solve()"
   ]
  },
  {
   "cell_type": "code",
   "execution_count": 112,
   "id": "71f291c8",
   "metadata": {},
   "outputs": [
    {
     "data": {
      "text/plain": [
       "{'KAPANEWON TEMON': x_KAPANEWON_TEMON,\n",
       " 'KAPANEWON WATES': x_KAPANEWON_WATES,\n",
       " 'KAPANEWON PANJATAN': x_KAPANEWON_PANJATAN,\n",
       " 'KAPANEWON GALUR': x_KAPANEWON_GALUR,\n",
       " 'KAPANEWON LENDAH': x_KAPANEWON_LENDAH}"
      ]
     },
     "execution_count": 112,
     "metadata": {},
     "output_type": "execute_result"
    }
   ],
   "source": [
    "facility_open"
   ]
  },
  {
   "cell_type": "code",
   "execution_count": 50,
   "id": "0da7eda4",
   "metadata": {},
   "outputs": [
    {
     "name": "stdout",
     "output_type": "stream",
     "text": [
      "Status: Optimal\n",
      "Population Served is =  2965.173645741676\n",
      "total demand :  2965.173645741676\n",
      "x =  [1. 0. 0. 1. 1.]\n",
      "y =  [1. 1. 1. 1. 1.]\n"
     ]
    }
   ],
   "source": [
    "x_soln = np.array([facility_open[j].varValue for j in facilities])\n",
    "x_soln\n",
    "\n",
    "y_soln = np.array([demand_point[j].varValue for j in demand_points])\n",
    "# And print some output\n",
    "print ((\"Status:\"), pulp.LpStatus[problem.status])\n",
    "print (\"Population Served is = \", pulp.value(problem.objective))\n",
    "print(\"total demand : \", sum(list(demands.values())))\n",
    "print (\"x = \", x_soln)\n",
    "print(\"y = \", y_soln)"
   ]
  },
  {
   "cell_type": "code",
   "execution_count": 131,
   "id": "be679309",
   "metadata": {},
   "outputs": [
    {
     "data": {
      "text/plain": [
       "2743.6921761268436"
      ]
     },
     "execution_count": 131,
     "metadata": {},
     "output_type": "execute_result"
    }
   ],
   "source": []
  }
 ],
 "metadata": {
  "kernelspec": {
   "display_name": "Python 3 (ipykernel)",
   "language": "python",
   "name": "python3"
  },
  "language_info": {
   "codemirror_mode": {
    "name": "ipython",
    "version": 3
   },
   "file_extension": ".py",
   "mimetype": "text/x-python",
   "name": "python",
   "nbconvert_exporter": "python",
   "pygments_lexer": "ipython3",
   "version": "3.12.0"
  }
 },
 "nbformat": 4,
 "nbformat_minor": 5
}

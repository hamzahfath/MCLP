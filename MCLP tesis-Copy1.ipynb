{
 "cells": [
  {
   "cell_type": "code",
   "execution_count": 77,
   "id": "c1b04c39",
   "metadata": {},
   "outputs": [],
   "source": [
    "import pulp\n",
    "import pandas as pd\n",
    "import numpy as np "
   ]
  },
  {
   "cell_type": "code",
   "execution_count": 78,
   "id": "1f042f10",
   "metadata": {},
   "outputs": [],
   "source": [
    "# Load the distance matrix from an Excel file\n",
    "excel_file = \"distance_matrix.xlsx\"  \n",
    "dfs = pd.read_excel(excel_file, index_col=0, engine='openpyxl')\n",
    "\n",
    "df = dfs.iloc[0:5,0:5].copy()\n",
    "\n",
    "demand_i = np.random.rand(df.shape[1])*1000 #demand aslinya \n",
    "demands = {city : demand for city, demand in zip(df.columns,demand_i)}"
   ]
  },
  {
   "cell_type": "code",
   "execution_count": 100,
   "id": "8c78eb93",
   "metadata": {},
   "outputs": [],
   "source": [
    "# Define your parameters\n",
    "facilities = df.columns.tolist()  # Facility locations\n",
    "demand_points = df.index.tolist()  # Demand points\n",
    "k = 3  # Number of facilities to open\n",
    "maximum_coverage = 10000"
   ]
  },
  {
   "cell_type": "code",
   "execution_count": 86,
   "id": "10c4126d",
   "metadata": {},
   "outputs": [],
   "source": [
    "# Create a PuLP linear programming problem\n",
    "problem = pulp.LpProblem(\"MCLP\", pulp.LpMaximize)"
   ]
  },
  {
   "cell_type": "code",
   "execution_count": 87,
   "id": "115fadeb",
   "metadata": {},
   "outputs": [],
   "source": [
    "# Define binary variables for facility opening decision\n",
    "facility_open = {j: pulp.LpVariable(\"x \" + j, cat=pulp.LpBinary) for j in facilities}   #x\n",
    "demand_point = {i: pulp.LpVariable(\"y \" + i, cat=pulp.LpBinary) for i in demand_points}  #y\n",
    "#demand_number = {i: pulp.LpVariable(i, cat=pulp.LpBinary) for i in demand_i} #a\n",
    "# demand_fulfilled = pulp.LpVariable.dicts(\"demand_fulfilled\", demand_points, cat='Binary')\n",
    "# demand_fulfilled\n",
    "#demand_point"
   ]
  },
  {
   "cell_type": "code",
   "execution_count": 88,
   "id": "313b64ee",
   "metadata": {},
   "outputs": [
    {
     "data": {
      "text/plain": [
       "MCLP:\n",
       "MAXIMIZE\n",
       "995.6688970287411*y_KAPANEWON_GALUR + 264.99838942034404*y_KAPANEWON_LENDAH + 399.19977941125984*y_KAPANEWON_PANJATAN + 701.8332726696367*y_KAPANEWON_TEMON + 381.9918375968616*y_KAPANEWON_WATES + 0.0\n",
       "VARIABLES\n",
       "0 <= y_KAPANEWON_GALUR <= 1 Integer\n",
       "0 <= y_KAPANEWON_LENDAH <= 1 Integer\n",
       "0 <= y_KAPANEWON_PANJATAN <= 1 Integer\n",
       "0 <= y_KAPANEWON_TEMON <= 1 Integer\n",
       "0 <= y_KAPANEWON_WATES <= 1 Integer"
      ]
     },
     "execution_count": 88,
     "metadata": {},
     "output_type": "execute_result"
    }
   ],
   "source": [
    "# Define the objective function (maximize coverage)\n",
    "problem += pulp.lpSum([demands[d] * demand_point[d] for d in demand_point])\n",
    "problem\n"
   ]
  },
  {
   "cell_type": "code",
   "execution_count": 89,
   "id": "c57eccf0",
   "metadata": {},
   "outputs": [],
   "source": [
    "# Set up constraints K (maximal SPKLU YANG DIBANGUN)\n",
    "problem += pulp.lpSum([facility_open[f] for f in facilities]) == k"
   ]
  },
  {
   "cell_type": "code",
   "execution_count": 90,
   "id": "c2eb89c0",
   "metadata": {},
   "outputs": [
    {
     "data": {
      "text/plain": [
       "MCLP:\n",
       "MAXIMIZE\n",
       "995.6688970287411*y_KAPANEWON_GALUR + 264.99838942034404*y_KAPANEWON_LENDAH + 399.19977941125984*y_KAPANEWON_PANJATAN + 701.8332726696367*y_KAPANEWON_TEMON + 381.9918375968616*y_KAPANEWON_WATES + 0.0\n",
       "SUBJECT TO\n",
       "_C1: x_KAPANEWON_GALUR + x_KAPANEWON_LENDAH + x_KAPANEWON_PANJATAN\n",
       " + x_KAPANEWON_TEMON + x_KAPANEWON_WATES = 3\n",
       "\n",
       "VARIABLES\n",
       "0 <= x_KAPANEWON_GALUR <= 1 Integer\n",
       "0 <= x_KAPANEWON_LENDAH <= 1 Integer\n",
       "0 <= x_KAPANEWON_PANJATAN <= 1 Integer\n",
       "0 <= x_KAPANEWON_TEMON <= 1 Integer\n",
       "0 <= x_KAPANEWON_WATES <= 1 Integer\n",
       "0 <= y_KAPANEWON_GALUR <= 1 Integer\n",
       "0 <= y_KAPANEWON_LENDAH <= 1 Integer\n",
       "0 <= y_KAPANEWON_PANJATAN <= 1 Integer\n",
       "0 <= y_KAPANEWON_TEMON <= 1 Integer\n",
       "0 <= y_KAPANEWON_WATES <= 1 Integer"
      ]
     },
     "execution_count": 90,
     "metadata": {},
     "output_type": "execute_result"
    }
   ],
   "source": [
    "problem"
   ]
  },
  {
   "cell_type": "code",
   "execution_count": 107,
   "id": "d54ec766",
   "metadata": {},
   "outputs": [
    {
     "data": {
      "text/plain": [
       "{'KAPANEWON TEMON': ['KAPANEWON TEMON', 'KAPANEWON WATES'],\n",
       " 'KAPANEWON WATES': ['KAPANEWON TEMON',\n",
       "  'KAPANEWON WATES',\n",
       "  'KAPANEWON PANJATAN'],\n",
       " 'KAPANEWON PANJATAN': ['KAPANEWON WATES',\n",
       "  'KAPANEWON PANJATAN',\n",
       "  'KAPANEWON GALUR',\n",
       "  'KAPANEWON LENDAH'],\n",
       " 'KAPANEWON GALUR': ['KAPANEWON PANJATAN',\n",
       "  'KAPANEWON GALUR',\n",
       "  'KAPANEWON LENDAH'],\n",
       " 'KAPANEWON LENDAH': ['KAPANEWON PANJATAN',\n",
       "  'KAPANEWON GALUR',\n",
       "  'KAPANEWON LENDAH']}"
      ]
     },
     "execution_count": 107,
     "metadata": {},
     "output_type": "execute_result"
    }
   ],
   "source": [
    "N = [[j for j in facilities if df[i][j] <= maximum_coverage] for i in demand_points]\n",
    "\n",
    "# N = {i:[j for j in facilities if df[i][j] <= 10000] for i in demand_points}\n"
   ]
  },
  {
   "cell_type": "code",
   "execution_count": 108,
   "id": "94f3df77",
   "metadata": {},
   "outputs": [],
   "source": [
    "# Constraints for apalah 9tu \n",
    "for i in demand_points:\n",
    "    problem += pulp.lpSum([facility_open[j] for j in N[i]]) >= demand_point[i]"
   ]
  },
  {
   "cell_type": "code",
   "execution_count": 109,
   "id": "44e19dca",
   "metadata": {},
   "outputs": [
    {
     "data": {
      "text/plain": [
       "MCLP:\n",
       "MAXIMIZE\n",
       "995.6688970287411*y_KAPANEWON_GALUR + 264.99838942034404*y_KAPANEWON_LENDAH + 399.19977941125984*y_KAPANEWON_PANJATAN + 701.8332726696367*y_KAPANEWON_TEMON + 381.9918375968616*y_KAPANEWON_WATES + 0.0\n",
       "SUBJECT TO\n",
       "_C1: x_KAPANEWON_GALUR + x_KAPANEWON_LENDAH + x_KAPANEWON_PANJATAN\n",
       " + x_KAPANEWON_TEMON + x_KAPANEWON_WATES = 3\n",
       "\n",
       "_C2: x_KAPANEWON_TEMON + x_KAPANEWON_WATES - y_KAPANEWON_TEMON >= 0\n",
       "\n",
       "_C3: x_KAPANEWON_PANJATAN + x_KAPANEWON_TEMON + x_KAPANEWON_WATES\n",
       " - y_KAPANEWON_WATES >= 0\n",
       "\n",
       "_C4: x_KAPANEWON_GALUR + x_KAPANEWON_LENDAH + x_KAPANEWON_PANJATAN\n",
       " + x_KAPANEWON_WATES - y_KAPANEWON_PANJATAN >= 0\n",
       "\n",
       "_C5: x_KAPANEWON_GALUR + x_KAPANEWON_LENDAH + x_KAPANEWON_PANJATAN\n",
       " - y_KAPANEWON_GALUR >= 0\n",
       "\n",
       "_C6: x_KAPANEWON_GALUR + x_KAPANEWON_LENDAH + x_KAPANEWON_PANJATAN\n",
       " - y_KAPANEWON_LENDAH >= 0\n",
       "\n",
       "VARIABLES\n",
       "0 <= x_KAPANEWON_GALUR <= 1 Integer\n",
       "0 <= x_KAPANEWON_LENDAH <= 1 Integer\n",
       "0 <= x_KAPANEWON_PANJATAN <= 1 Integer\n",
       "0 <= x_KAPANEWON_TEMON <= 1 Integer\n",
       "0 <= x_KAPANEWON_WATES <= 1 Integer\n",
       "0 <= y_KAPANEWON_GALUR <= 1 Integer\n",
       "0 <= y_KAPANEWON_LENDAH <= 1 Integer\n",
       "0 <= y_KAPANEWON_PANJATAN <= 1 Integer\n",
       "0 <= y_KAPANEWON_TEMON <= 1 Integer\n",
       "0 <= y_KAPANEWON_WATES <= 1 Integer"
      ]
     },
     "execution_count": 109,
     "metadata": {},
     "output_type": "execute_result"
    }
   ],
   "source": [
    "problem"
   ]
  },
  {
   "cell_type": "code",
   "execution_count": 111,
   "id": "27a01f67",
   "metadata": {},
   "outputs": [
    {
     "data": {
      "text/plain": [
       "1"
      ]
     },
     "execution_count": 111,
     "metadata": {},
     "output_type": "execute_result"
    }
   ],
   "source": [
    "problem.solve()"
   ]
  },
  {
   "cell_type": "code",
   "execution_count": 112,
   "id": "71f291c8",
   "metadata": {},
   "outputs": [
    {
     "data": {
      "text/plain": [
       "{'KAPANEWON TEMON': x_KAPANEWON_TEMON,\n",
       " 'KAPANEWON WATES': x_KAPANEWON_WATES,\n",
       " 'KAPANEWON PANJATAN': x_KAPANEWON_PANJATAN,\n",
       " 'KAPANEWON GALUR': x_KAPANEWON_GALUR,\n",
       " 'KAPANEWON LENDAH': x_KAPANEWON_LENDAH}"
      ]
     },
     "execution_count": 112,
     "metadata": {},
     "output_type": "execute_result"
    }
   ],
   "source": [
    "facility_open"
   ]
  },
  {
   "cell_type": "code",
   "execution_count": 132,
   "id": "0da7eda4",
   "metadata": {},
   "outputs": [
    {
     "name": "stdout",
     "output_type": "stream",
     "text": [
      "Status: Optimal\n",
      "Population Served is =  2743.6921761268436\n",
      "total demand :  2743.6921761268436\n",
      "x =  [1. 0. 0. 1. 1.]\n",
      "y =  [1. 1. 1. 1. 1.]\n"
     ]
    }
   ],
   "source": [
    "x_soln = np.array([facility_open[j].varValue for j in facilities])\n",
    "x_soln\n",
    "\n",
    "y_soln = np.array([demand_point[j].varValue for j in demand_points])\n",
    "# And print some output\n",
    "print ((\"Status:\"), pulp.LpStatus[problem.status])\n",
    "print (\"Population Served is = \", pulp.value(problem.objective))\n",
    "print(\"total demand : \", sum(list(demands.values())))\n",
    "print (\"x = \", x_soln)\n",
    "print(\"y = \", y_soln)"
   ]
  },
  {
   "cell_type": "code",
   "execution_count": 131,
   "id": "be679309",
   "metadata": {},
   "outputs": [
    {
     "data": {
      "text/plain": [
       "2743.6921761268436"
      ]
     },
     "execution_count": 131,
     "metadata": {},
     "output_type": "execute_result"
    }
   ],
   "source": []
  }
 ],
 "metadata": {
  "kernelspec": {
   "display_name": "Python 3 (ipykernel)",
   "language": "python",
   "name": "python3"
  },
  "language_info": {
   "codemirror_mode": {
    "name": "ipython",
    "version": 3
   },
   "file_extension": ".py",
   "mimetype": "text/x-python",
   "name": "python",
   "nbconvert_exporter": "python",
   "pygments_lexer": "ipython3",
   "version": "3.12.0"
  }
 },
 "nbformat": 4,
 "nbformat_minor": 5
}
